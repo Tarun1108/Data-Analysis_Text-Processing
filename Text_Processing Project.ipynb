{
 "cells": [
  {
   "cell_type": "code",
   "execution_count": 8,
   "metadata": {},
   "outputs": [
    {
     "name": "stdout",
     "output_type": "stream",
     "text": [
      "processed 1\n",
      "processed 2\n",
      "processed 3\n",
      "processed 4\n",
      "processed 5\n"
     ]
    }
   ],
   "source": [
    "#--------TEXT COLLECTION , GENERATING , PROCESSING AND SAVE IN CSV FILE--------------------\n",
    "import pandas as pd\n",
    "import requests\n",
    "from bs4 import BeautifulSoup\n",
    "url=\"https://www.goodreads.com/quotes/tag/{}?page={}\"\n",
    "\n",
    "def get_quotes(url):\n",
    "    res=requests.get(url)\n",
    "    soup=BeautifulSoup(res.text)\n",
    "    quote_divs=soup.find_all(\"div\",attrs={\"class\":\"quote\"})\n",
    "    quotes=[]\n",
    "    \n",
    "    for quote_div in quote_divs:\n",
    "        quoteText_div=quote_div.find_next(\"div\",attrs={\"class\":\"quoteText\"})\n",
    "        stripped=quoteText_div.text.strip()\n",
    "        stripped_li=stripped.split(\"\\n\")\n",
    "        quote=stripped_li[0][1:-1]\n",
    "        author=stripped_li[-1].strip()\n",
    "        left_div=quote_div.find_next(\"div\",attrs={\"class\":\"left\"})\n",
    "        tags=[tag.text for tag in left_div.find_all(\"a\")]\n",
    "        \n",
    "        quote_item={\n",
    "            \"text\":quote,\n",
    "            \"author\":author,\n",
    "            \"tags\":tags\n",
    "        }\n",
    "        quotes.append(quote_item)\n",
    "        \n",
    "    return quotes\n",
    "\n",
    "total = []\n",
    "for i in range(1,6):\n",
    "    total.extend(get_quotes(url.format(\"love\",i)))\n",
    "    print(\"processed\",i)\n",
    "    \n",
    "total  \n",
    "\n",
    "df=pd.DataFrame(total)\n",
    "df.to_csv(\"scrap1.csv\" )"
   ]
  }
 ],
 "metadata": {
  "kernelspec": {
   "display_name": "Python 3",
   "language": "python",
   "name": "python3"
  },
  "language_info": {
   "codemirror_mode": {
    "name": "ipython",
    "version": 3
   },
   "file_extension": ".py",
   "mimetype": "text/x-python",
   "name": "python",
   "nbconvert_exporter": "python",
   "pygments_lexer": "ipython3",
   "version": "3.7.4"
  }
 },
 "nbformat": 4,
 "nbformat_minor": 2
}
